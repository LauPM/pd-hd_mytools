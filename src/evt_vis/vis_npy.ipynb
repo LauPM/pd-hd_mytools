{
 "cells": [
  {
   "cell_type": "code",
   "execution_count": null,
   "metadata": {},
   "outputs": [
    {
     "ename": "",
     "evalue": "",
     "output_type": "error",
     "traceback": [
      "\u001b[1;31mFailed to connect to the remote Jupyter Server 'http://127.0.0.1:8888/'. Verify the server is running and reachable. (Kernel not initialized in Session)."
     ]
    }
   ],
   "source": [
    "import numpy as np\n",
    "import matplotlib as plt"
   ]
  },
  {
   "cell_type": "code",
   "execution_count": null,
   "metadata": {},
   "outputs": [],
   "source": [
    "path = \"/afs/cern.ch/work/l/lperez/public/pds_waveforms_run25015_0000_wf.npy\"\n",
    "wfs = np.load(path)\n",
    "print(wfs)\n",
    "print(wfs.shape)\n",
    "time = len(wfs)\n",
    "plt.plot(time,wfs[0])"
   ]
  }
 ],
 "metadata": {
  "kernelspec": {
   "display_name": "Python 3 (ipykernel)",
   "language": "python",
   "name": "python3"
  }
 },
 "nbformat": 4,
 "nbformat_minor": 2
}
